{
 "cells": [
  {
   "cell_type": "code",
   "execution_count": 2,
   "metadata": {},
   "outputs": [
    {
     "name": "stderr",
     "output_type": "stream",
     "text": [
      "Using TensorFlow backend.\n"
     ]
    }
   ],
   "source": [
    "import dxchange\n",
    "import numpy as np\n",
    "from xlearn.utils import nor_data\n",
    "from xlearn.utils import extract_3d\n",
    "from xlearn.utils import img_window\n",
    "from xlearn.classify import model\n",
    "import matplotlib.pyplot as plt\n",
    "import time\n",
    "import glob"
   ]
  },
  {
   "cell_type": "code",
   "execution_count": 3,
   "metadata": {},
   "outputs": [],
   "source": [
    "np.random.seed(1337)\n",
    "dim_img = 128\n",
    "patch_size = (dim_img, dim_img)\n",
    "batch_size = 50\n",
    "nb_classes = 2\n",
    "nb_epoch = 12"
   ]
  },
  {
   "cell_type": "markdown",
   "metadata": {},
   "source": [
    "number of convolutional filters to use"
   ]
  },
  {
   "cell_type": "code",
   "execution_count": 3,
   "metadata": {},
   "outputs": [],
   "source": [
    "nb_filters = 32"
   ]
  },
  {
   "cell_type": "markdown",
   "metadata": {},
   "source": [
    "size of pooling area for max pooling"
   ]
  },
  {
   "cell_type": "code",
   "execution_count": 4,
   "metadata": {},
   "outputs": [],
   "source": [
    "nb_pool = 2"
   ]
  },
  {
   "cell_type": "markdown",
   "metadata": {},
   "source": [
    "convolution kernel size"
   ]
  },
  {
   "cell_type": "code",
   "execution_count": 5,
   "metadata": {},
   "outputs": [],
   "source": [
    "nb_conv = 3"
   ]
  },
  {
   "cell_type": "markdown",
   "metadata": {},
   "source": [
    "Please download the test data from the classify_evaluate folder at\n",
    "\n",
    "http://tinyurl.com/APS-convnet\n",
    "\n",
    "and put them in the test_data folder"
   ]
  },
  {
   "cell_type": "code",
   "execution_count": 6,
   "metadata": {},
   "outputs": [],
   "source": [
    "nb_evl = 100"
   ]
  },
  {
   "cell_type": "code",
   "execution_count": 7,
   "metadata": {},
   "outputs": [],
   "source": [
    "fnames = glob.glob('../../test/test_data/center_test/*.tiff')\n",
    "fnames = np.sort(fnames)"
   ]
  },
  {
   "cell_type": "code",
   "execution_count": 8,
   "metadata": {},
   "outputs": [
    {
     "name": "stderr",
     "output_type": "stream",
     "text": [
      "/home/yangx/anaconda3/lib/python3.6/site-packages/xlearn-0.2.0-py3.6.egg/xlearn/classify.py:98: UserWarning: Update your `Conv2D` call to the Keras 2 API: `Conv2D(32, (3, 3), input_shape=(128, 128,..., padding=\"valid\")`\n",
      "/home/yangx/anaconda3/lib/python3.6/site-packages/xlearn-0.2.0-py3.6.egg/xlearn/classify.py:100: UserWarning: Update your `Conv2D` call to the Keras 2 API: `Conv2D(32, (3, 3))`\n",
      "/home/yangx/anaconda3/lib/python3.6/site-packages/xlearn-0.2.0-py3.6.egg/xlearn/classify.py:105: UserWarning: Update your `Conv2D` call to the Keras 2 API: `Conv2D(64, (3, 3))`\n"
     ]
    }
   ],
   "source": [
    "mdl = model(dim_img, nb_filters, nb_conv, nb_classes)\n",
    "\n",
    "mdl.load_weights('weight_center.h5')\n",
    "\n",
    "Y_score = np.zeros((len(fnames)))\n"
   ]
  },
  {
   "cell_type": "code",
   "execution_count": 9,
   "metadata": {},
   "outputs": [],
   "source": [
    "for i in range(len(fnames)):\n",
    "    img = dxchange.read_tiff(fnames[i])\n",
    "    img = nor_data(img)\n",
    "    X_evl = np.zeros((nb_evl, dim_img, dim_img))\n",
    "\n",
    "    for j in range(nb_evl):\n",
    "        X_evl[j] = img_window(img[360:1460, 440:1440], dim_img)\n",
    "    X_evl = X_evl.reshape(X_evl.shape[0], dim_img, dim_img, 1)\n",
    "    Y_evl = mdl.predict(X_evl, batch_size=batch_size)\n",
    "    Y_score[i] = sum(np.dot(Y_evl, [0, 1]))"
   ]
  },
  {
   "cell_type": "markdown",
   "metadata": {},
   "source": []
  },
  {
   "cell_type": "code",
   "execution_count": 10,
   "metadata": {},
   "outputs": [
    {
     "name": "stdout",
     "output_type": "stream",
     "text": [
      "The well-centered reconstruction is: ../../test/test_data/center_test/1048.tiff\n"
     ]
    },
    {
     "data": {
      "image/png": "[encoded data removed]",
      "text/plain": [
       "<Figure size 432x288 with 1 Axes>"
      ]
     },
     "metadata": {
      "needs_background": "light"
     },
     "output_type": "display_data"
    }
   ],
   "source": [
    "ind_max = np.argmax(Y_score)\n",
    "print('The well-centered reconstruction is:', fnames[ind_max])\n",
    "plt.plot(Y_score)\n",
    "plt.show()"
   ]
  }
 ],
 "metadata": {
  "kernelspec": {
   "display_name": "Python 3",
   "language": "python",
   "name": "python3"
  },
  "language_info": {
   "codemirror_mode": {
    "name": "ipython",
    "version": 3
   },
   "file_extension": ".py",
   "mimetype": "text/x-python",
   "name": "python",
   "nbconvert_exporter": "python",
   "pygments_lexer": "ipython3",
   "version": "3.6.8"
  }
 },
 "nbformat": 4,
 "nbformat_minor": 1
}
